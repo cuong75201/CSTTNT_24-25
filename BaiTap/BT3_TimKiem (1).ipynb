{
 "cells": [
  {
   "cell_type": "markdown",
   "id": "0cfa247f-bf3f-4910-90dc-ae8ecb607964",
   "metadata": {},
   "source": [
    "# Buổi 4: Tìm kiếm trong không gian trạng thái"
   ]
  },
  {
   "cell_type": "markdown",
   "id": "48ace7ff-b7d1-4cf2-94da-a21d2d821112",
   "metadata": {},
   "source": [
    "### Bài 1. Biễu diễn đồ thị\n",
    "\n",
    "Cho đồ thị hàm số **G** (**V**, **E**) như bên dưới:\n",
    "\n",
    "![image](dothi.png)"
   ]
  },
  {
   "cell_type": "markdown",
   "id": "51164f9d-5d98-4361-b2c2-1fb23fd3704c",
   "metadata": {},
   "source": [
    "#### 1. Biễu diễn bằng danh sách / ma trận kề"
   ]
  },
  {
   "cell_type": "code",
   "execution_count": 2,
   "id": "8715cbf5-d144-479d-9bb3-eb0be736fa12",
   "metadata": {},
   "outputs": [],
   "source": [
    "\"\"\" CÁC BẠN LÀM BÀI Ở ĐÂY \"\"\"\n",
    "# ...\n",
    "ADJ = {\n",
    "    'A': ['C', 'D', 'F'],\n",
    "    'B': [],\n",
    "    'C': ['H'],\n",
    "    'D': ['E'],\n",
    "    'E': ['I', 'K'],\n",
    "    'F': ['G', 'I'],\n",
    "    'G': [],\n",
    "    'H': ['K'],\n",
    "    'I': ['B', 'K'],\n",
    "    'K': ['B']\n",
    "}"
   ]
  },
  {
   "cell_type": "code",
   "execution_count": 3,
   "id": "44f952fc-0188-4215-823b-6efb1ba5622a",
   "metadata": {},
   "outputs": [
    {
     "name": "stdout",
     "output_type": "stream",
     "text": [
      "{'A': ['C', 'D', 'F'],\n",
      " 'B': [],\n",
      " 'C': ['H'],\n",
      " 'D': ['E'],\n",
      " 'E': ['I', 'K'],\n",
      " 'F': ['G', 'I'],\n",
      " 'G': [],\n",
      " 'H': ['K'],\n",
      " 'I': ['B', 'K'],\n",
      " 'K': ['B']}\n"
     ]
    }
   ],
   "source": [
    "import pprint\n",
    "pprint.pprint(ADJ)"
   ]
  },
  {
   "cell_type": "markdown",
   "id": "c975f35c-f742-4ac2-be01-1fe53c94eadf",
   "metadata": {},
   "source": [
    "#### 2. Thao tác duyệt đồ thị\n",
    "(a) Liệt kê các đỉnh trong đồ thị <br/>\n",
    "(b) Liệt kê tất cả các cạnh đồ thị hiển thị dạng danh sách kề <br/>\n",
    "(c) Cho hai đỉnh A, B. Hỏi hai đỉnh A, B có kề nhau không? <br/>\n",
    "(d) Cho một đỉnh A. Hỏi danh sách các đỉnh kề với A <br/>"
   ]
  },
  {
   "cell_type": "code",
   "execution_count": 4,
   "id": "d286c1a6-ef93-4581-9f7e-96ea10020985",
   "metadata": {},
   "outputs": [
    {
     "name": "stdout",
     "output_type": "stream",
     "text": [
      "2. Thao tác duyệt đồ thị\n"
     ]
    }
   ],
   "source": [
    "print(\"2. Thao tác duyệt đồ thị\")"
   ]
  },
  {
   "cell_type": "code",
   "execution_count": 5,
   "id": "5faa6543-247a-4903-ba2a-9c1595af4f41",
   "metadata": {},
   "outputs": [
    {
     "name": "stdout",
     "output_type": "stream",
     "text": [
      "(a) Liệt kê các đỉnh trong đồ thị\n",
      "Các đỉnh của đồ thị:  ['A', 'B', 'C', 'D', 'E', 'F', 'G', 'H', 'I', 'K']\n"
     ]
    }
   ],
   "source": [
    "print(\"(a) Liệt kê các đỉnh trong đồ thị\")\n",
    "print(\"Các đỉnh của đồ thị: \", end = \" \")\n",
    "\"\"\" CÁC BẠN LÀM BÀI Ở ĐÂY \"\"\"\n",
    "# ...\n",
    "print(list(ADJ.keys()))"
   ]
  },
  {
   "cell_type": "code",
   "execution_count": 6,
   "id": "3df2151a-a327-4672-a7af-519084f4b044",
   "metadata": {},
   "outputs": [
    {
     "name": "stdout",
     "output_type": "stream",
     "text": [
      "(b) Liệt kê tất cả các cạnh đồ thị hiển thị dạng danh sách kề\n",
      "Danh sách kề của đồ thị: \n",
      "Đỉnh A:C D F\n",
      "Đỉnh B:\n",
      "Đỉnh C:H\n",
      "Đỉnh D:E\n",
      "Đỉnh E:I K\n",
      "Đỉnh F:G I\n",
      "Đỉnh G:\n",
      "Đỉnh H:K\n",
      "Đỉnh I:B K\n",
      "Đỉnh K:B\n"
     ]
    }
   ],
   "source": [
    "print(\"(b) Liệt kê tất cả các cạnh đồ thị hiển thị dạng danh sách kề\")\n",
    "print(\"Danh sách kề của đồ thị: \")\n",
    "\n",
    "def HienThiDoThi(G):\n",
    "    \"\"\" CÁC BẠN LÀM BÀI Ở ĐÂY \"\"\"\n",
    "    # ...\n",
    "    for key,value in G.items():\n",
    "        print(f'Đỉnh {key}:{\" \".join(value)}')\n",
    "    pass\n",
    "\n",
    "HienThiDoThi(ADJ)"
   ]
  },
  {
   "cell_type": "code",
   "execution_count": 7,
   "id": "4077c30a-c7be-4a44-93de-9ed446a6a368",
   "metadata": {},
   "outputs": [
    {
     "name": "stdout",
     "output_type": "stream",
     "text": [
      "(c) Cho hai đỉnh A, B. Hỏi hai đỉnh A, B có kề nhau không?\n"
     ]
    }
   ],
   "source": [
    "print(\"(c) Cho hai đỉnh A, B. Hỏi hai đỉnh A, B có kề nhau không?\")\n",
    "\n",
    "def LaKe(G, a, b):\n",
    "    \"\"\"\n",
    "    input: G, a, b\n",
    "    return: \n",
    "    + -1: dinh a, hay b khong ton tai\n",
    "    +  0: dinh a, b ton tai va a khong ke b\n",
    "    +  1: dinh a, b ton tai va a, b ke nhau\n",
    "    \"\"\"\n",
    "    result = None\n",
    "    \"\"\" CÁC BẠN LÀM BÀI Ở ĐÂY \"\"\"\n",
    "    # ...  \n",
    "    if (a not in G or b not in G): \n",
    "        result=-1\n",
    "    elif(a in G[b] or b in G[a]):\n",
    "        result=1\n",
    "    else: result=0\n",
    "\n",
    "    return result"
   ]
  },
  {
   "cell_type": "code",
   "execution_count": 8,
   "id": "0e90a761-8354-460a-a451-1cbb97b9b6b8",
   "metadata": {},
   "outputs": [
    {
     "name": "stdout",
     "output_type": "stream",
     "text": [
      "L ke R: -1\n",
      "A ke R: -1\n",
      "E ke D: 1\n",
      "D ke E: 1\n"
     ]
    }
   ],
   "source": [
    "a = \"L\"; b = \"R\"; print(f\"{a} ke {b}: {LaKe(ADJ, a, b)}\")\n",
    "a = \"A\"; b = \"R\"; print(f\"{a} ke {b}: {LaKe(ADJ, a, b)}\")\n",
    "\n",
    "a = \"E\"; b = \"D\"; print(f\"{a} ke {b}: {LaKe(ADJ, a, b)}\")\n",
    "a = \"D\"; b = \"E\"; print(f\"{a} ke {b}: {LaKe(ADJ, a, b)}\")"
   ]
  },
  {
   "cell_type": "code",
   "execution_count": 9,
   "id": "41048b4b-9311-470f-9c0f-2bcb5b062587",
   "metadata": {},
   "outputs": [
    {
     "name": "stdout",
     "output_type": "stream",
     "text": [
      "(d) Cho một đỉnh A. Hỏi danh sách các đỉnh kề với A\n",
      "Danh sach ke voi dinh P: None\n",
      "Danh sach ke voi dinh A: None\n",
      "Danh sach ke voi dinh B: None\n",
      "Danh sach ke voi dinh D: None\n"
     ]
    }
   ],
   "source": [
    "print(\"(d) Cho một đỉnh A. Hỏi danh sách các đỉnh kề với A\")\n",
    "\n",
    "def LayKe(G, a):\n",
    "    \"\"\"\n",
    "    input: G, a\n",
    "    return: \n",
    "    + None: neu a khong ton tai\n",
    "    + []  : a khong ke voi bat ky dinh nao\n",
    "    + [x, y, ...]: mang cac dinh ke voi a\n",
    "    \"\"\"\n",
    "    result = None\n",
    "    \n",
    "    \"\"\" CÁC BẠN LÀM BÀI Ở ĐÂY \"\"\"\n",
    "    # ...\n",
    "    \n",
    "    return result\n",
    "\n",
    "a = \"P\"; print(f\"Danh sach ke voi dinh {a}: {LayKe(ADJ, a)}\")\n",
    "a = \"A\"; print(f\"Danh sach ke voi dinh {a}: {LayKe(ADJ, a)}\")\n",
    "a = \"B\"; print(f\"Danh sach ke voi dinh {a}: {LayKe(ADJ, a)}\")\n",
    "a = \"D\"; print(f\"Danh sach ke voi dinh {a}: {LayKe(ADJ, a)}\")"
   ]
  },
  {
   "cell_type": "markdown",
   "id": "465a8fdb-f10f-47a9-91ab-1b23598fda4f",
   "metadata": {},
   "source": [
    "#### 3. Đọc và lưu đồ thị\n",
    "**dske.txt**\n",
    "```\n",
    "10           # số đỉnh đồ thị\n",
    "A C E F D    # đỉnh A kề với C E F D\n",
    "B            # đỉnh B không kề với ai\n",
    "C H\n",
    "D E H\n",
    "E K I\n",
    "F I G\n",
    "G\n",
    "H K\n",
    "I K B\n",
    "K B\n",
    "```"
   ]
  },
  {
   "cell_type": "code",
   "execution_count": 10,
   "id": "a71b385f-d571-4d94-88f1-427527c23653",
   "metadata": {},
   "outputs": [
    {
     "name": "stdout",
     "output_type": "stream",
     "text": [
      "1. Lưu đồ thị xuống tập tin\n",
      "Luu do thi thanh cong xuong tap tin: dske1.txt\n"
     ]
    }
   ],
   "source": [
    "print(\"1. Lưu đồ thị xuống tập tin\")\n",
    "\n",
    "def LuuDoThi(G, file_path, verbose = True):\n",
    "    import os\n",
    "    \n",
    "    \"\"\" CÁC BẠN LÀM BÀI Ở ĐÂY \"\"\"\n",
    "    \n",
    "    # Tạo thư mục chứa file_path\n",
    "    file_dir = os.path.dirname(file_path)\n",
    "    if file_dir != \"\" and os.path.exists(file_path) == False:\n",
    "        os.makedirs(file_dir)\n",
    "        if verbose: print(f\"+ Tao thu muc: {file_dir}\")\n",
    "    \n",
    "    # Lưu đồ thị\n",
    "    with open(file_path, \"wt\") as file:\n",
    "        \"\"\" CÁC BẠN LÀM BÀI Ở ĐÂY \"\"\"\n",
    "        # ...\n",
    "        \n",
    "        if verbose: print(f\"Luu do thi thanh cong xuong tap tin: {file_path}\")\n",
    "    pass\n",
    "\n",
    "LuuDoThi(ADJ, \"dske1.txt\", verbose = True)\n",
    "with open(\"dske1.txt\", \"rt\") as file:\n",
    "    lines = file.readlines()\n",
    "    for line in lines: print(line, end=\"\")"
   ]
  },
  {
   "cell_type": "code",
   "execution_count": null,
   "id": "b30921dc-fb94-44a5-907f-0d66340757a0",
   "metadata": {},
   "outputs": [
    {
     "name": "stdout",
     "output_type": "stream",
     "text": [
      "2. Đọc đồ thị từ tập tin\n"
     ]
    },
    {
     "ename": "ValueError",
     "evalue": "invalid literal for int() with base 10: ''",
     "output_type": "error",
     "traceback": [
      "\u001b[1;31m---------------------------------------------------------------------------\u001b[0m",
      "\u001b[1;31mValueError\u001b[0m                                Traceback (most recent call last)",
      "Cell \u001b[1;32mIn[13], line 39\u001b[0m\n\u001b[0;32m     36\u001b[0m         result \u001b[38;5;241m=\u001b[39m G\n\u001b[0;32m     37\u001b[0m     \u001b[38;5;28;01mreturn\u001b[39;00m result\n\u001b[1;32m---> 39\u001b[0m G1 \u001b[38;5;241m=\u001b[39m DocDoThi(\u001b[38;5;124m\"\u001b[39m\u001b[38;5;124mdske1.txt\u001b[39m\u001b[38;5;124m\"\u001b[39m, verbose \u001b[38;5;241m=\u001b[39m \u001b[38;5;28;01mTrue\u001b[39;00m)\n\u001b[0;32m     40\u001b[0m pprint\u001b[38;5;241m.\u001b[39mpprint(G1)\n",
      "Cell \u001b[1;32mIn[13], line 18\u001b[0m, in \u001b[0;36mDocDoThi\u001b[1;34m(file_path, verbose)\u001b[0m\n\u001b[0;32m     16\u001b[0m G \u001b[38;5;241m=\u001b[39m {}\n\u001b[0;32m     17\u001b[0m \u001b[38;5;28;01mwith\u001b[39;00m \u001b[38;5;28mopen\u001b[39m(file_path, \u001b[38;5;124m\"\u001b[39m\u001b[38;5;124mrt\u001b[39m\u001b[38;5;124m\"\u001b[39m) \u001b[38;5;28;01mas\u001b[39;00m file:\n\u001b[1;32m---> 18\u001b[0m    n \u001b[38;5;241m=\u001b[39m \u001b[38;5;28mint\u001b[39m(file\u001b[38;5;241m.\u001b[39mreadline())\n\u001b[0;32m     20\u001b[0m     \u001b[38;5;66;03m# Đọc n dòng kế tiếp, mỗi dòng là một đỉnh và các đỉnh kề với nó\u001b[39;00m\n\u001b[0;32m     21\u001b[0m \u001b[38;5;28;01mfor\u001b[39;00m _ \u001b[38;5;129;01min\u001b[39;00m \u001b[38;5;28mrange\u001b[39m(n):\n",
      "\u001b[1;31mValueError\u001b[0m: invalid literal for int() with base 10: ''"
     ]
    }
   ],
   "source": [
    "print(\"2. Đọc đồ thị từ tập tin\")\n",
    "import pprint\n",
    "\n",
    "def DocDoThi(file_path, verbose = True):\n",
    "    \"\"\"\n",
    "    return:\n",
    "    + None: doc that bai\n",
    "    + <>None: tra ve do thi\n",
    "    \"\"\"\n",
    "    import os\n",
    "    \n",
    "    result = None\n",
    "    if os.path.exists(file_path) == False:\n",
    "        result = None\n",
    "    else:\n",
    "        G = {}\n",
    "        with open(file_path, \"rt\") as file:\n",
    "           n = int(file.readline())\n",
    "            \n",
    "            # Đọc n dòng kế tiếp, mỗi dòng là một đỉnh và các đỉnh kề với nó\n",
    "        for _ in range(n):\n",
    "                line = file.readline().strip()\n",
    "                vertices = line.split()\n",
    "                \n",
    "                if len(vertices) > 0:\n",
    "                    vertex = vertices[0]  # Đỉnh đầu tiên trên dòng\n",
    "                    G[vertex] = set()    \n",
    "                    \n",
    "                    # Thêm các đỉnh kề (nếu có)\n",
    "                    for i in range(1, len(vertices)):\n",
    "                        G[vertex].add(vertices[i])\n",
    "            \n",
    "        if verbose:\n",
    "                print(f\"Đọc đồ thị thành công từ tập tin: {file_path}\")\n",
    "        \n",
    "        result = G\n",
    "    return result\n",
    "\n",
    "G1 = DocDoThi(\"dske1.txt\", verbose = True)\n",
    "pprint.pprint(G1)"
   ]
  },
  {
   "cell_type": "markdown",
   "id": "8197f40f-69af-489d-80b5-124c91427db6",
   "metadata": {},
   "source": [
    "### Bài 2. Tìm kiếm đường đi trên đồ thị"
   ]
  },
  {
   "cell_type": "markdown",
   "id": "43f12303-9ee9-4404-9ecb-f00a5f78e4ee",
   "metadata": {},
   "source": [
    "#### 1. Tìm kiếm theo chiều rộng (BFS)"
   ]
  },
  {
   "cell_type": "code",
   "execution_count": 14,
   "id": "1910f300-4094-4d69-b009-a9d4ea0fb27b",
   "metadata": {},
   "outputs": [],
   "source": [
    "import pprint\n",
    "\n",
    "def BFS(G, start, goal):\n",
    "    \"\"\"\n",
    "    return: \n",
    "    + mang chua duong di tu a --> b, neu rong la ko co duong di\n",
    "    + None: dinh a, b khong hop le\n",
    "    \"\"\"\n",
    "    result = None\n",
    "    \n",
    "    if G.get(start) is None or G.get(goal) is None:\n",
    "        result = None\n",
    "    else:\n",
    "        path = {}     # path[a]=b nghia la muon di toi dinh b phai qua a\n",
    "        s_open   = []\n",
    "        s_closed = []\n",
    "        \n",
    "        # đưa start vào open\n",
    "        s_open.append(start)    \n",
    "        path[start] = None\n",
    "        while len(s_open)>0:\n",
    "            \"\"\" CÁC BẠN LÀM BÀI Ở ĐÂY \"\"\"\n",
    "            # ...\n",
    "            \n",
    "            current = s_open.pop(0)\n",
    "            s_closed.append(current)\n",
    "            \n",
    "            # Nếu tìm thấy goal, dừng tìm kiếm\n",
    "            if current == goal:\n",
    "                found = True\n",
    "                break\n",
    "            \n",
    "            # Duyệt qua các đỉnh kề của current\n",
    "            for neighbor in G[current]:\n",
    "                # Nếu neighbor chưa được thăm (không trong path)\n",
    "                if neighbor not in path:\n",
    "                    s_open.append(neighbor)\n",
    "                    path[neighbor] = current\n",
    "        \n",
    "        result = path\n",
    "    \n",
    "    return result\n",
    "        \n",
    "    return path"
   ]
  },
  {
   "cell_type": "code",
   "execution_count": 15,
   "id": "ed7e6ed1-ae75-4183-8cb2-0e4eae606144",
   "metadata": {},
   "outputs": [
    {
     "name": "stdout",
     "output_type": "stream",
     "text": [
      "{'A': None,\n",
      " 'B': 'I',\n",
      " 'C': 'A',\n",
      " 'D': 'A',\n",
      " 'E': 'D',\n",
      " 'F': 'A',\n",
      " 'G': 'F',\n",
      " 'H': 'C',\n",
      " 'I': 'F',\n",
      " 'K': 'H'}\n"
     ]
    }
   ],
   "source": [
    "path = BFS(ADJ, \"A\", \"B\")\n",
    "pprint.pprint(path)"
   ]
  },
  {
   "cell_type": "code",
   "execution_count": null,
   "id": "cd05574f-d2fa-4f71-80b2-1f9c5b45f945",
   "metadata": {},
   "outputs": [],
   "source": [
    "def find_path(path, start, goal):\n",
    "    \"\"\"\n",
    "    Cho mang truy hoi duong, tim ds dinh tu start --> goal\n",
    "    \"\"\"\n",
    "    result = []\n",
    "    \n",
    "    \"\"\" CÁC BẠN LÀM BÀI Ở ĐÂY \"\"\"\n",
    "    # ...\n",
    "    \n",
    "    return result\n",
    "    pass"
   ]
  },
  {
   "cell_type": "code",
   "execution_count": null,
   "id": "50a093aa-283b-4623-9428-a0631e37328b",
   "metadata": {},
   "outputs": [
    {
     "data": {
      "text/plain": [
       "['A', 'E', 'K', 'B']"
      ]
     },
     "execution_count": 14,
     "metadata": {},
     "output_type": "execute_result"
    }
   ],
   "source": [
    "find_path(path, 'A', 'B')"
   ]
  },
  {
   "cell_type": "markdown",
   "id": "16085819-733d-4f95-a32d-aa52c5e35a6e",
   "metadata": {},
   "source": [
    "#### 2. Tìm kiếm theo chiều rộng (DFS)"
   ]
  },
  {
   "cell_type": "code",
   "execution_count": null,
   "id": "50ebc7cd-f093-4d06-852c-e6c903e27864",
   "metadata": {},
   "outputs": [],
   "source": [
    "import pprint\n",
    "\n",
    "def DFS(G, start, goal):\n",
    "    \"\"\"\n",
    "    return: \n",
    "    + mang chua duong di tu a --> b, neu rong la ko co duong di\n",
    "    + None: dinh a, b khong hop le\n",
    "    \"\"\"\n",
    "    result = None\n",
    "    \n",
    "    if G.get(start) is None or G.get(goal) is None:\n",
    "        result = None\n",
    "    else:\n",
    "        path = {}     # path[a]=b nghia la muon di toi dinh b phai qua a\n",
    "        s_open   = []\n",
    "        s_closed = []\n",
    "        \n",
    "        # đưa start vào open\n",
    "        s_open.append(start)    \n",
    "        path[start] = None\n",
    "        while len(s_open)>0:\n",
    "            \"\"\" CÁC BẠN LÀM BÀI Ở ĐÂY \"\"\"\n",
    "            # ...\n",
    "            \n",
    "            pass\n",
    "        \n",
    "    return path"
   ]
  },
  {
   "cell_type": "code",
   "execution_count": null,
   "id": "8177518a-8ffc-4a29-be9c-90375367793a",
   "metadata": {},
   "outputs": [
    {
     "name": "stdout",
     "output_type": "stream",
     "text": [
      "{'A': None,\n",
      " 'B': 'I',\n",
      " 'C': 'A',\n",
      " 'D': 'A',\n",
      " 'E': 'A',\n",
      " 'F': 'A',\n",
      " 'G': 'F',\n",
      " 'H': 'D',\n",
      " 'I': 'F',\n",
      " 'K': 'I'}\n"
     ]
    }
   ],
   "source": [
    "path = DFS(ADJ, \"A\", \"B\")\n",
    "pprint.pprint(path)"
   ]
  },
  {
   "cell_type": "markdown",
   "id": "d037e84a-1f8c-4388-89f6-9b1e105140da",
   "metadata": {},
   "source": [
    "# Kết thúc"
   ]
  }
 ],
 "metadata": {
  "kernelspec": {
   "display_name": "base",
   "language": "python",
   "name": "python3"
  },
  "language_info": {
   "codemirror_mode": {
    "name": "ipython",
    "version": 3
   },
   "file_extension": ".py",
   "mimetype": "text/x-python",
   "name": "python",
   "nbconvert_exporter": "python",
   "pygments_lexer": "ipython3",
   "version": "3.12.7"
  }
 },
 "nbformat": 4,
 "nbformat_minor": 5
}
